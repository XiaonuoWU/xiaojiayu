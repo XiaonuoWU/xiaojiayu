{
 "cells": [
  {
   "cell_type": "code",
   "execution_count": 3,
   "metadata": {},
   "outputs": [
    {
     "data": {
      "text/plain": [
       "'xiao'"
      ]
     },
     "execution_count": 3,
     "metadata": {},
     "output_type": "execute_result"
    }
   ],
   "source": [
    "str1='xiaonuo unlike coding'\n",
    "str1[:4]"
   ]
  },
  {
   "cell_type": "code",
   "execution_count": 4,
   "metadata": {},
   "outputs": [
    {
     "data": {
      "text/plain": [
       "'o'"
      ]
     },
     "execution_count": 4,
     "metadata": {},
     "output_type": "execute_result"
    }
   ],
   "source": [
    "str1[3]"
   ]
  },
  {
   "cell_type": "code",
   "execution_count": 5,
   "metadata": {},
   "outputs": [],
   "source": [
    "#改变方法，将字符串切片再拼接 相当于重新更新了一个\n",
    "str1=str1[:5]+'charu'+str1[5:]"
   ]
  },
  {
   "cell_type": "code",
   "execution_count": 6,
   "metadata": {},
   "outputs": [
    {
     "data": {
      "text/plain": [
       "'xiaoncharuuo unlike coding'"
      ]
     },
     "execution_count": 6,
     "metadata": {},
     "output_type": "execute_result"
    }
   ],
   "source": [
    "str1"
   ]
  },
  {
   "cell_type": "code",
   "execution_count": 24,
   "metadata": {},
   "outputs": [
    {
     "data": {
      "text/plain": [
       "'K DONT LKKE CODKNG'"
      ]
     },
     "execution_count": 24,
     "metadata": {},
     "output_type": "execute_result"
    }
   ],
   "source": [
    "str2='I DONT LIKE CODING'\n",
    "str2. "
   ]
  },
  {
   "cell_type": "code",
   "execution_count": 14,
   "metadata": {},
   "outputs": [
    {
     "data": {
      "text/plain": [
       "2"
      ]
     },
     "execution_count": 14,
     "metadata": {},
     "output_type": "execute_result"
    }
   ],
   "source": [
    "str2.find('XIA')"
   ]
  },
  {
   "cell_type": "markdown",
   "metadata": {},
   "source": [
    "capitalize()  \n",
    "把字符串的第一个字符改为大写  \n",
    "casefold()  \n",
    "把整个字符串的所有字符改为小写  \n",
    "center(width)  \n",
    "将字符串居中，并使用空格填充至长度 width 的新字符串  \n",
    "count(sub[, start[, end]])  \n",
    "返回 sub 在字符串里边出现的次数，start 和 end 参数表示范围，可选。  \n",
    "encode(encoding='utf-8', errors='strict')  \n",
    "以 encoding 指定的编码格式对字符串进行编码。  \n",
    "endswith(sub[, start[, end]])  \n",
    "检查字符串是否以 sub 子字符串结束，如果是返回 True，否则返回 False。start 和 end 参数  表示范围，可选。  \n",
    "expandtabs([tabsize=8])  \n",
    "把字符串中的 tab 符号（\\t）转换为空格，如不指定参数，默认的空格数是 tabsize=8。  \n",
    "find(sub[, start[, end]])  \n",
    "检测 sub 是否包含在字符串中，如果有则返回索引值，否则返回 -1，start 和 end 参数表示范围，可选。  \n",
    "index(sub[, start[, end]])  \n",
    "跟 find 方法一样，不过如果 sub 不在 string 中会产生一个异常。  \n",
    "isalnum()  \n",
    "如果字符串至少有一个字符并且所有字符都是字母或数字则返回 True，否则返回 False。  \n",
    "isalpha()  \n",
    "如果字符串至少有一个字符并且所有字符都是字母则返回 True，否则返回 False。  \n",
    "isdecimal()  \n",
    "如果字符串只包含十进制数字则返回 True，否则返回 False。  \n",
    "isdigit()  \n",
    "如果字符串只包含数字则返回 True，否则返回 False。  \n",
    "islower()  \n",
    "如果字符串中至少包含一个区分大小写的字符，并且这些字符都是小写，则返回 True，否则返回 False。  \n",
    "isnumeric()  \n",
    "如果字符串中只包含数字字符，则返回 True，否则返回 False。  \n",
    "isspace()  \n",
    "如果字符串中只包含空格，则返回 True，否则返回 False。  \n",
    "istitle()  \n",
    "如果字符串是标题化（所有的单词都是以大写开始，其余字母均小写），则返回 True，否则返回 False。  \n",
    "isupper()  \n",
    "如果字符串中至少包含一个区分大小写的字符，并且这些字符都是大写，则返回 True，否则返回 False。  \n",
    "join(sub)  \n",
    "以字符串作为分隔符，插入到 sub 中所有的字符之间。  \n",
    "ljust(width)  \n",
    "返回一个左对齐的字符串，并使用空格填充至长度为 width 的新字符串。\n",
    "lower()  \n",
    "转换字符串中所有大写字符为小写。  \n",
    "lstrip()  \n",
    "去掉字符串左边的所有空格  \n",
    "partition(sub)  \n",
    "找到子字符串 sub，把字符串分成一个 3 元组 (pre_sub, sub, fol_sub)，如果字符串中不包含 sub 则返回 ('原字符串', '', '')  \n",
    "replace(old, new[, count])  \n",
    "把字符串中的 old 子字符串替换成 new 子字符串，如果 count 指定，则替换不超过 count 次。\n",
    "rfind(sub[, start[, end]])  \n",
    "类似于 find() 方法，不过是从右边开始查找。  \n",
    "rindex(sub[, start[, end]])  \n",
    "类似于 index() 方法，不过是从右边开始。  \n",
    "rjust(width)  \n",
    "返回一个右对齐的字符串，并使用空格填充至长度为 width 的新字符串。\n",
    "rpartition(sub)  \n",
    "类似于 partition() 方法，不过是从右边开始查找。  \n",
    "rstrip()  \n",
    "删除字符串末尾的空格。  \n",
    "split(sep=None, maxsplit=-1)  \n",
    "不带参数默认是以空格为分隔符切片字符串，如果 maxsplit 参数有设置，则仅分隔 maxsplit 个子字符串，返回切片后的子字符串拼接的列表。  \n",
    "splitlines(([keepends]))  \n",
    "在输出结果里是否去掉换行符，默认为 False，不包含换行符；如果为 True，则保留换行符。。  \n",
    "startswith(prefix[, start[, end]])  \n",
    "检查字符串是否以 prefix 开头，是则返回 True，否则返回 False。start 和 end 参数可以指定范围检查，可选。  \n",
    "strip([chars])  \n",
    "删除字符串前边和后边所有的空格，chars 参数可以定制删除的字符，可选。  \n",
    "swapcase()  \n",
    "翻转字符串中的大小写。  \n",
    "title()  \n",
    "返回标题化（所有的单词都是以大写开始，其余字母均小写）的字符串。  \n",
    "translate(table)  \n",
    "根据 table 的规则（可以由 str.maketrans('a', 'b') 定制）转换字符串中的字符。  \n",
    "upper()  \n",
    "转换字符串中的所有小写字符为大写。  \n",
    "zfill(width)  \n",
    "返回长度为 width 的字符串，原字符串右对齐，前边用 0 填充。  "
   ]
  },
  {
   "cell_type": "code",
   "execution_count": null,
   "metadata": {},
   "outputs": [],
   "source": []
  }
 ],
 "metadata": {
  "kernelspec": {
   "display_name": "python3.6",
   "language": "python",
   "name": "python36"
  },
  "language_info": {
   "codemirror_mode": {
    "name": "ipython",
    "version": 3
   },
   "file_extension": ".py",
   "mimetype": "text/x-python",
   "name": "python",
   "nbconvert_exporter": "python",
   "pygments_lexer": "ipython3",
   "version": "3.6.9"
  }
 },
 "nbformat": 4,
 "nbformat_minor": 2
}
