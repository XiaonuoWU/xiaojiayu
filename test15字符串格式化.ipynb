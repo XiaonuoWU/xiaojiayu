{
 "cells": [
  {
   "cell_type": "code",
   "execution_count": 1,
   "metadata": {},
   "outputs": [
    {
     "data": {
      "text/plain": [
       "'I love EATING.RICE'"
      ]
     },
     "execution_count": 1,
     "metadata": {},
     "output_type": "execute_result"
    }
   ],
   "source": [
    "\"{0} love {1}.{2}\".format(\"I\",\"EATING\",\"RICE\")"
   ]
  },
  {
   "cell_type": "code",
   "execution_count": 2,
   "metadata": {},
   "outputs": [
    {
     "data": {
      "text/plain": [
       "'I love EATING.EATING'"
      ]
     },
     "execution_count": 2,
     "metadata": {},
     "output_type": "execute_result"
    }
   ],
   "source": [
    "\"{A} love {B}.{C}\".format(A=\"I\",B=\"EATING\",C=\"RICE\")"
   ]
  },
  {
   "cell_type": "code",
   "execution_count": 4,
   "metadata": {},
   "outputs": [
    {
     "data": {
      "text/plain": [
       "'{0} love EATING.RICE'"
      ]
     },
     "execution_count": 4,
     "metadata": {},
     "output_type": "execute_result"
    }
   ],
   "source": [
    "\"{{0}} love {1}.{2}\".format(\"I\",\"EATING\",\"RICE\")"
   ]
  },
  {
   "cell_type": "code",
   "execution_count": 5,
   "metadata": {},
   "outputs": [
    {
     "data": {
      "text/plain": [
       "'27.7GB'"
      ]
     },
     "execution_count": 5,
     "metadata": {},
     "output_type": "execute_result"
    }
   ],
   "source": [
    "'{0:.1f}{1}'.format(27.658,'GB')"
   ]
  },
  {
   "cell_type": "markdown",
   "metadata": {},
   "source": [
    "%c  \n",
    "格式化字符及其 ASCII 码  \n",
    "%s  \n",
    "格式化字符串  \n",
    "%d  \n",
    "格式化整数  \n",
    "%o  \n",
    "格式化无符号八进制数  \n",
    "%x  \n",
    "格式化无符号十六进制数  \n",
    "%X  \n",
    "格式化无符号十六进制数（大写）  \n",
    "%f  \n",
    "格式化浮点数字，可指定小数点后的精度  \n",
    "%e  \n",
    "用科学计数法格式化浮点数  \n",
    "%E  \n",
    "作用同 %e，用科学计数法格式化浮点数  \n",
    "%g  \n",
    "根据值的大小决定使用 %f 或 %e  \n",
    "%G  \n",
    "作用同 %g，根据值的大小决定使用 %f 或者 %E  \n",
    "\n",
    "\n",
    "格式化操作符辅助命令\n",
    "\n",
    "m.n\n",
    "m 是显示的最小总宽度，n 是小数点后的位数\n",
    "-\n",
    "用于左对齐\n",
    "+\n",
    "在正数前面显示加号（+）\n",
    "#\n",
    "在八进制数前面显示 '0o'，在十六进制数前面显示 '0x' 或 '0X'\n",
    "0\n",
    "显示的数字前面填充 '0' 取代空格\n",
    "\n",
    "\n",
    "Python 的转义字符及其含义\n",
    "\n",
    "符号\n",
    "说明\n",
    "\\'\n",
    "单引号\n",
    "\\\"\n",
    "双引号\n",
    "\\a\n",
    "发出系统响铃声\n",
    "\\b\n",
    "退格符\n",
    "\\n\n",
    "换行符\n",
    "\\t\n",
    "横向制表符（TAB）\n",
    "\\v\n",
    "纵向制表符\n",
    "\\r\n",
    "回车符\n",
    "\\f\n",
    "换页符\n",
    "\\o\n",
    "八进制数代表的字符\n",
    "\\x\n",
    "十六进制数代表的字符\n",
    "\\0\n",
    "表示一个空字符\n",
    "\\\\\n",
    "反斜杠"
   ]
  },
  {
   "cell_type": "code",
   "execution_count": 8,
   "metadata": {},
   "outputs": [
    {
     "data": {
      "text/plain": [
       "'a'"
      ]
     },
     "execution_count": 8,
     "metadata": {},
     "output_type": "execute_result"
    }
   ],
   "source": [
    "'%c'% 97"
   ]
  },
  {
   "cell_type": "code",
   "execution_count": 9,
   "metadata": {},
   "outputs": [
    {
     "data": {
      "text/plain": [
       "'i like eating'"
      ]
     },
     "execution_count": 9,
     "metadata": {},
     "output_type": "execute_result"
    }
   ],
   "source": [
    "'%s' % 'i like eating'"
   ]
  },
  {
   "cell_type": "code",
   "execution_count": 14,
   "metadata": {},
   "outputs": [
    {
     "data": {
      "text/plain": [
       "'4 + 5 = 9'"
      ]
     },
     "execution_count": 14,
     "metadata": {},
     "output_type": "execute_result"
    }
   ],
   "source": [
    "'%d + %d = %d' % (4,5,4+5)"
   ]
  },
  {
   "cell_type": "code",
   "execution_count": 15,
   "metadata": {},
   "outputs": [
    {
     "data": {
      "text/plain": [
       "'27.648000'"
      ]
     },
     "execution_count": 15,
     "metadata": {},
     "output_type": "execute_result"
    }
   ],
   "source": [
    "'%f'% 27.648"
   ]
  },
  {
   "cell_type": "code",
   "execution_count": 16,
   "metadata": {},
   "outputs": [
    {
     "data": {
      "text/plain": [
       "'2.774800e+01'"
      ]
     },
     "execution_count": 16,
     "metadata": {},
     "output_type": "execute_result"
    }
   ],
   "source": [
    "'%e' %27.748"
   ]
  },
  {
   "cell_type": "code",
   "execution_count": 17,
   "metadata": {},
   "outputs": [
    {
     "data": {
      "text/plain": [
       "' 27.4'"
      ]
     },
     "execution_count": 17,
     "metadata": {},
     "output_type": "execute_result"
    }
   ],
   "source": [
    "'%5.1f' % 27.364"
   ]
  },
  {
   "cell_type": "code",
   "execution_count": 18,
   "metadata": {},
   "outputs": [
    {
     "data": {
      "text/plain": [
       "'2.74e+01'"
      ]
     },
     "execution_count": 18,
     "metadata": {},
     "output_type": "execute_result"
    }
   ],
   "source": [
    "'%.2e' %27.431"
   ]
  },
  {
   "cell_type": "code",
   "execution_count": 19,
   "metadata": {},
   "outputs": [
    {
     "data": {
      "text/plain": [
       "'0o12'"
      ]
     },
     "execution_count": 19,
     "metadata": {},
     "output_type": "execute_result"
    }
   ],
   "source": [
    "'%#o' % 10"
   ]
  },
  {
   "cell_type": "code",
   "execution_count": 20,
   "metadata": {},
   "outputs": [
    {
     "data": {
      "text/plain": [
       "'0X6C'"
      ]
     },
     "execution_count": 20,
     "metadata": {},
     "output_type": "execute_result"
    }
   ],
   "source": [
    "'%#X' % 108"
   ]
  },
  {
   "cell_type": "code",
   "execution_count": 21,
   "metadata": {},
   "outputs": [
    {
     "data": {
      "text/plain": [
       "'0000000005'"
      ]
     },
     "execution_count": 21,
     "metadata": {},
     "output_type": "execute_result"
    }
   ],
   "source": [
    "'%010d' % 5"
   ]
  },
  {
   "cell_type": "code",
   "execution_count": 22,
   "metadata": {},
   "outputs": [
    {
     "data": {
      "text/plain": [
       "'5         '"
      ]
     },
     "execution_count": 22,
     "metadata": {},
     "output_type": "execute_result"
    }
   ],
   "source": [
    "'%-010d' % 5"
   ]
  },
  {
   "cell_type": "code",
   "execution_count": null,
   "metadata": {},
   "outputs": [],
   "source": []
  }
 ],
 "metadata": {
  "kernelspec": {
   "display_name": "python3.6",
   "language": "python",
   "name": "python36"
  },
  "language_info": {
   "codemirror_mode": {
    "name": "ipython",
    "version": 3
   },
   "file_extension": ".py",
   "mimetype": "text/x-python",
   "name": "python",
   "nbconvert_exporter": "python",
   "pygments_lexer": "ipython3",
   "version": "3.6.9"
  }
 },
 "nbformat": 4,
 "nbformat_minor": 2
}
