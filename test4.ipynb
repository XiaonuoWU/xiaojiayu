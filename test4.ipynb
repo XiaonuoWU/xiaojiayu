{
 "cells": [
  {
   "cell_type": "markdown",
   "metadata": {},
   "source": [
    "+ python 中的比较操作符\n",
    "+ 大于>\n",
    "+ 小于<\n",
    "+ 大于等于>=\n",
    "+ 小于等于<=\n",
    "+ 等于==\n",
    "+ 不等于!=\n",
    "### python中的条件分支语法\n",
    "+ if 条件 ：\n",
    "+ 条件为真运行\n",
    "+ else：\n",
    "+ 条件为假运行\n",
    "### python中的while语法\n",
    "+ while 条件：\n",
    "+ 条件为真运行\n"
   ]
  },
  {
   "cell_type": "code",
   "execution_count": 6,
   "metadata": {},
   "outputs": [
    {
     "name": "stdout",
     "output_type": "stream",
     "text": [
      "--------我爱编程--------\n",
      "不妨猜一下我现在想的数字：2\n",
      "错啦～请重新输入吧：3\n",
      "你猜对啦！\n",
      "游戏结束，不玩啦！\n"
     ]
    }
   ],
   "source": [
    "import random\n",
    "secret = random.randint(1,10)\n",
    "print ('--------我爱编程--------')\n",
    "temp = input(\"不妨猜一下我现在想的数字：\")\n",
    "guess = int(temp)\n",
    "while guess != secret:\n",
    "    temp = input(\"错啦～请重新输入吧：\")\n",
    "    guess = int(temp)\n",
    "    if guess == secret:\n",
    "        print(\"你猜对啦！\")\n",
    "    else:\n",
    "        if guess > secret:\n",
    "            print(\"大啦！\")\n",
    "        else:\n",
    "            print(\"小啦～\")\n",
    "print(\"游戏结束，不玩啦！\")"
   ]
  },
  {
   "cell_type": "code",
   "execution_count": 21,
   "metadata": {},
   "outputs": [
    {
     "name": "stdout",
     "output_type": "stream",
     "text": [
      "--------我爱编程--------\n",
      "不妨猜一下我现在想的数字：2\n",
      "小啦～\n",
      "请重新输入吧：3\n",
      "小啦～\n",
      "请重新输入吧：4\n",
      "小啦～\n",
      "请重新输入吧：8\n",
      "怎么猜了4次都没猜对呀～\n",
      "游戏结束，不玩啦！\n"
     ]
    }
   ],
   "source": [
    "import random\n",
    "secret = random.randint(1,10)\n",
    "print ('--------我爱编程--------')\n",
    "temp = input(\"不妨猜一下我现在想的数字：\")\n",
    "guess = int(temp)\n",
    "i = 0\n",
    "if guess == secret:\n",
    "        print(\"你猜对啦！\")\n",
    "else:\n",
    "    while guess!=secret and i<3 :\n",
    "        if guess > secret:\n",
    "            print(\"大啦！\")\n",
    "        else:\n",
    "            print(\"小啦～\")\n",
    "        temp = input(\"请重新输入吧：\")\n",
    "        guess = int(temp)\n",
    "        if guess == secret:\n",
    "            print(\"你猜对啦！\")\n",
    "        i = i + 1\n",
    "if i==3 and guess!=secret:\n",
    "    print(\"怎么猜了4次都没猜对呀～\")\n",
    "print(\"游戏结束，不玩啦！\")"
   ]
  },
  {
   "cell_type": "code",
   "execution_count": null,
   "metadata": {},
   "outputs": [],
   "source": []
  }
 ],
 "metadata": {
  "kernelspec": {
   "display_name": "Python 3",
   "language": "python",
   "name": "python3"
  },
  "language_info": {
   "codemirror_mode": {
    "name": "ipython",
    "version": 3
   },
   "file_extension": ".py",
   "mimetype": "text/x-python",
   "name": "python",
   "nbconvert_exporter": "python",
   "pygments_lexer": "ipython3",
   "version": "3.6.8"
  }
 },
 "nbformat": 4,
 "nbformat_minor": 2
}
