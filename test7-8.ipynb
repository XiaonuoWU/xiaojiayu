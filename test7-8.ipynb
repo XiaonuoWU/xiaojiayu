{
 "cells": [
  {
   "cell_type": "markdown",
   "metadata": {},
   "source": [
    "#### 分支和循环1 &2\n",
    "##### 小飞机游戏框架\n",
    "+ 1、加载背景音乐，播放背景音乐（设置单曲循环）\n",
    "+ 2、我方大飞机诞生\n",
    "+ interval = 0\n",
    "+ \n",
    "+ \n",
    "+ while True\n",
    "+      if 用户点击了关闭按钮\n",
    "+         退出程序\n",
    "+      \n",
    "+      interval += 1\n",
    "+      if interval == 50\n",
    "+         interval = 0\n",
    "+         产生小飞机\n",
    "+ \n",
    "+      小飞机移动一个位置\n",
    "+      屏幕刷新\n",
    "+      \n",
    "+      if 用户鼠标移动\n",
    "+         我方大飞机中心位置=用户鼠标位置\n",
    "+         屏幕刷新\n",
    "+     \n",
    "+      if 我方飞机撞小飞机\n",
    "+         我方挂，播放撞击音乐\n",
    "+         修改我方飞机图\n",
    "+         打印game over\n",
    "+         停止背景音乐，淡出"
   ]
  },
  {
   "cell_type": "code",
   "execution_count": 7,
   "metadata": {},
   "outputs": [
    {
     "name": "stdout",
     "output_type": "stream",
     "text": [
      "请输入您的分数：150\n",
      "请输入0-100的整数\n"
     ]
    }
   ],
   "source": [
    "grade = input(\"请输入您的分数：\")\n",
    "grade = int(grade)\n",
    "if  grade >100:\n",
    "    print(\"请输入0-100的整数\")\n",
    "elif  grade > 90:\n",
    "    print(\"您的等级为A\")\n",
    "elif grade > 80:\n",
    "    print(\"您的等级为B\")\n",
    "elif grade > 60:\n",
    "    print(\"您的等级为C\")\n",
    "elif grade >= 0:\n",
    "    print(\"您的等级为D\")\n",
    "else:\n",
    "    print(\"请输入0-100的整数\")\n",
    "    "
   ]
  },
  {
   "cell_type": "markdown",
   "metadata": {},
   "source": [
    "三元操作符  \n",
    "x,y = 4,5  \n",
    "if x<y:  \n",
    "    small=x  \n",
    "else:  \n",
    "    small=y  \n",
    "  \n",
    "small = x if x < y else y  "
   ]
  },
  {
   "cell_type": "markdown",
   "metadata": {},
   "source": [
    "assert(断言)  \n",
    "当 assert后面条件为假时，程序自动崩溃  \n",
    "用他置入检查点 保证程序中的某个条件一定为真才能让程序正常工作  "
   ]
  },
  {
   "cell_type": "code",
   "execution_count": 8,
   "metadata": {},
   "outputs": [
    {
     "ename": "AssertionError",
     "evalue": "",
     "output_type": "error",
     "traceback": [
      "\u001b[0;31m---------------------------------------------------------------------------\u001b[0m",
      "\u001b[0;31mAssertionError\u001b[0m                            Traceback (most recent call last)",
      "\u001b[0;32m<ipython-input-8-0a43d59b5385>\u001b[0m in \u001b[0;36m<module>\u001b[0;34m()\u001b[0m\n\u001b[0;32m----> 1\u001b[0;31m \u001b[0;32massert\u001b[0m \u001b[0;36m3\u001b[0m \u001b[0;34m>\u001b[0m \u001b[0;36m4\u001b[0m\u001b[0;34m\u001b[0m\u001b[0;34m\u001b[0m\u001b[0m\n\u001b[0m",
      "\u001b[0;31mAssertionError\u001b[0m: "
     ]
    }
   ],
   "source": [
    "assert 3 > 4"
   ]
  },
  {
   "cell_type": "markdown",
   "metadata": {},
   "source": [
    "## 课后作业"
   ]
  },
  {
   "cell_type": "markdown",
   "metadata": {},
   "source": [
    "0.相当于if (money >= 100)  \n",
    "1.保证其后面的条件一定为真  \n",
    "2."
   ]
  },
  {
   "cell_type": "code",
   "execution_count": 9,
   "metadata": {},
   "outputs": [],
   "source": [
    "x = 1\n",
    "y = 2 \n",
    "z = 3\n",
    "\n",
    "x,y,z = y,z,x"
   ]
  },
  {
   "cell_type": "code",
   "execution_count": 10,
   "metadata": {},
   "outputs": [
    {
     "data": {
      "text/plain": [
       "2"
      ]
     },
     "execution_count": 10,
     "metadata": {},
     "output_type": "execute_result"
    }
   ],
   "source": [
    "x"
   ]
  },
  {
   "cell_type": "code",
   "execution_count": 11,
   "metadata": {},
   "outputs": [
    {
     "data": {
      "text/plain": [
       "3"
      ]
     },
     "execution_count": 11,
     "metadata": {},
     "output_type": "execute_result"
    }
   ],
   "source": [
    "y"
   ]
  },
  {
   "cell_type": "code",
   "execution_count": 12,
   "metadata": {},
   "outputs": [
    {
     "data": {
      "text/plain": [
       "1"
      ]
     },
     "execution_count": 12,
     "metadata": {},
     "output_type": "execute_result"
    }
   ],
   "source": [
    "z"
   ]
  },
  {
   "cell_type": "markdown",
   "metadata": {},
   "source": [
    "3.(x < y and [x] or [y])[0] 是 Python 的作者还没有为 Python 加入三元操作符之前，Python 社区的小伙伴们灵活的使用 and 和 or  搭配来实现三元操作符的功能   \n",
    "4.Python 有一个成员资格运算符：in，用于检查一个值是否在序列中，如果在序列中返回 True，否则返回 False  "
   ]
  },
  {
   "cell_type": "code",
   "execution_count": 18,
   "metadata": {},
   "outputs": [
    {
     "data": {
      "text/plain": [
       "False"
      ]
     },
     "execution_count": 18,
     "metadata": {},
     "output_type": "execute_result"
    }
   ],
   "source": [
    "name = '宝宝'\n",
    "'piao' in name"
   ]
  },
  {
   "cell_type": "code",
   "execution_count": 16,
   "metadata": {},
   "outputs": [],
   "source": [
    "x, y, z = 6, 5, 4\n",
    "if x < y:\n",
    "    small = x\n",
    "    if z < small:\n",
    "        small = z\n",
    "elif y < z:\n",
    "    small = y\n",
    "else:\n",
    "    small = z"
   ]
  },
  {
   "cell_type": "markdown",
   "metadata": {},
   "source": [
    "### 修改后"
   ]
  },
  {
   "cell_type": "code",
   "execution_count": 14,
   "metadata": {},
   "outputs": [],
   "source": [
    "x, y, z = 6, 5, 4\n",
    "small = x if x < y else y\n",
    "small = z if z < small else small"
   ]
  },
  {
   "cell_type": "code",
   "execution_count": null,
   "metadata": {},
   "outputs": [],
   "source": [
    "small = x if (x < y and x < z) else (y if y < z else z)#甲鱼答案"
   ]
  }
 ],
 "metadata": {
  "kernelspec": {
   "display_name": "Python 3",
   "language": "python",
   "name": "python3"
  },
  "language_info": {
   "codemirror_mode": {
    "name": "ipython",
    "version": 3
   },
   "file_extension": ".py",
   "mimetype": "text/x-python",
   "name": "python",
   "nbconvert_exporter": "python",
   "pygments_lexer": "ipython3",
   "version": "3.7.0"
  }
 },
 "nbformat": 4,
 "nbformat_minor": 2
}
