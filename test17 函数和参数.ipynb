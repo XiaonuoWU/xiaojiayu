{
 "cells": [
  {
   "cell_type": "code",
   "execution_count": 2,
   "metadata": {},
   "outputs": [
    {
     "name": "stdout",
     "output_type": "stream",
     "text": [
      "我的函数\n",
      "我想要找工作\n",
      "希望秋招顺利\n"
     ]
    }
   ],
   "source": [
    "def myfunction():\n",
    "    print('我的函数')\n",
    "    print('我想要找工作')\n",
    "    print('希望秋招顺利')\n",
    "    \n",
    "#调用函数\n",
    "myfunction()"
   ]
  },
  {
   "cell_type": "code",
   "execution_count": 4,
   "metadata": {},
   "outputs": [
    {
     "name": "stdout",
     "output_type": "stream",
     "text": [
      "小诺真可爱\n"
     ]
    }
   ],
   "source": [
    "def mynamefunction(name):\n",
    "    print(name+'真可爱')\n",
    "    \n",
    "mynamefunction('小诺')"
   ]
  },
  {
   "cell_type": "code",
   "execution_count": 5,
   "metadata": {},
   "outputs": [
    {
     "name": "stdout",
     "output_type": "stream",
     "text": [
      "9\n"
     ]
    }
   ],
   "source": [
    "def add(num1,num2):\n",
    "    return(num1+num2)\n",
    "print(add(4,5))"
   ]
  },
  {
   "cell_type": "code",
   "execution_count": 1,
   "metadata": {},
   "outputs": [],
   "source": [
    "#形参和实参\n",
    "def myfunction(name):\n",
    "    '函数定义过程中的name是叫形参'\n",
    "    print('新转学的小朋友'+name+'是个美女')"
   ]
  },
  {
   "cell_type": "code",
   "execution_count": 2,
   "metadata": {},
   "outputs": [
    {
     "name": "stdout",
     "output_type": "stream",
     "text": [
      "新转学的小朋友小诺是个美女\n"
     ]
    }
   ],
   "source": [
    "myfunction('小诺')"
   ]
  },
  {
   "cell_type": "code",
   "execution_count": 3,
   "metadata": {},
   "outputs": [
    {
     "data": {
      "text/plain": [
       "'函数定义过程中的name是叫形参'"
      ]
     },
     "execution_count": 3,
     "metadata": {},
     "output_type": "execute_result"
    }
   ],
   "source": [
    "myfunction.__doc__"
   ]
  },
  {
   "cell_type": "code",
   "execution_count": 4,
   "metadata": {},
   "outputs": [
    {
     "name": "stdout",
     "output_type": "stream",
     "text": [
      "Help on function myfunction in module __main__:\n",
      "\n",
      "myfunction(name)\n",
      "    函数定义过程中的name是叫形参\n",
      "\n"
     ]
    }
   ],
   "source": [
    "help(myfunction)"
   ]
  },
  {
   "cell_type": "code",
   "execution_count": 7,
   "metadata": {},
   "outputs": [],
   "source": [
    "def saysome(name='小诺',word='我喜欢帅哥'):#默认参数\n",
    "    print(name,'->',word)"
   ]
  },
  {
   "cell_type": "code",
   "execution_count": 8,
   "metadata": {},
   "outputs": [
    {
     "name": "stdout",
     "output_type": "stream",
     "text": [
      "帅哥 -> 你好吗\n"
     ]
    }
   ],
   "source": [
    "saysome(word='你好吗',name='帅哥')#用关键字索引参数"
   ]
  },
  {
   "cell_type": "code",
   "execution_count": 9,
   "metadata": {},
   "outputs": [
    {
     "name": "stdout",
     "output_type": "stream",
     "text": [
      "小诺 -> 我喜欢帅哥\n"
     ]
    }
   ],
   "source": [
    "saysome()"
   ]
  },
  {
   "cell_type": "code",
   "execution_count": 10,
   "metadata": {},
   "outputs": [],
   "source": [
    "def test(*params):#收集参数\n",
    "    print('参数的长度是',len(params));\n",
    "    print('第二个参数是',params[1]);"
   ]
  },
  {
   "cell_type": "code",
   "execution_count": 11,
   "metadata": {},
   "outputs": [
    {
     "name": "stdout",
     "output_type": "stream",
     "text": [
      "参数的长度是 6\n",
      "第二个参数是 小诺\n"
     ]
    }
   ],
   "source": [
    "test(1,'小诺',2,3,3,3)"
   ]
  },
  {
   "cell_type": "code",
   "execution_count": 12,
   "metadata": {},
   "outputs": [],
   "source": [
    "def test(*params,exp):\n",
    "    print('参数的长度是',len(params),exp);\n",
    "    print('第二个参数是',params[1]);"
   ]
  },
  {
   "cell_type": "code",
   "execution_count": 14,
   "metadata": {},
   "outputs": [
    {
     "name": "stdout",
     "output_type": "stream",
     "text": [
      "参数的长度是 6 8\n",
      "第二个参数是 小诺\n"
     ]
    }
   ],
   "source": [
    "test(1,'小诺',2,3,3,3,exp=8)"
   ]
  },
  {
   "cell_type": "code",
   "execution_count": null,
   "metadata": {},
   "outputs": [],
   "source": []
  }
 ],
 "metadata": {
  "kernelspec": {
   "display_name": "python3.6",
   "language": "python",
   "name": "python36"
  },
  "language_info": {
   "codemirror_mode": {
    "name": "ipython",
    "version": 3
   },
   "file_extension": ".py",
   "mimetype": "text/x-python",
   "name": "python",
   "nbconvert_exporter": "python",
   "pygments_lexer": "ipython3",
   "version": "3.6.9"
  }
 },
 "nbformat": 4,
 "nbformat_minor": 2
}
